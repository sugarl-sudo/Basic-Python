{
 "cells": [
  {
   "cell_type": "code",
   "execution_count": 1,
   "outputs": [
    {
     "name": "stdout",
     "output_type": "stream",
     "text": [
      "Requirement already satisfied: japanize-matplotlib in c:\\users\\satoy\\anaconda3\\envs\\basic-python\\lib\\site-packages (1.1.3)\n",
      "Requirement already satisfied: matplotlib in c:\\users\\satoy\\anaconda3\\envs\\basic-python\\lib\\site-packages (from japanize-matplotlib) (3.5.1)\n",
      "Requirement already satisfied: numpy>=1.17 in c:\\users\\satoy\\anaconda3\\envs\\basic-python\\lib\\site-packages (from matplotlib->japanize-matplotlib) (1.22.3)\n",
      "Requirement already satisfied: pyparsing>=2.2.1 in c:\\users\\satoy\\anaconda3\\envs\\basic-python\\lib\\site-packages (from matplotlib->japanize-matplotlib) (3.0.4)\n",
      "Requirement already satisfied: packaging>=20.0 in c:\\users\\satoy\\anaconda3\\envs\\basic-python\\lib\\site-packages (from matplotlib->japanize-matplotlib) (21.3)\n",
      "Requirement already satisfied: kiwisolver>=1.0.1 in c:\\users\\satoy\\anaconda3\\envs\\basic-python\\lib\\site-packages (from matplotlib->japanize-matplotlib) (1.4.2)\n",
      "Requirement already satisfied: cycler>=0.10 in c:\\users\\satoy\\anaconda3\\envs\\basic-python\\lib\\site-packages (from matplotlib->japanize-matplotlib) (0.11.0)\n",
      "Requirement already satisfied: pillow>=6.2.0 in c:\\users\\satoy\\anaconda3\\envs\\basic-python\\lib\\site-packages (from matplotlib->japanize-matplotlib) (9.0.1)\n",
      "Requirement already satisfied: python-dateutil>=2.7 in c:\\users\\satoy\\anaconda3\\envs\\basic-python\\lib\\site-packages (from matplotlib->japanize-matplotlib) (2.8.2)\n",
      "Requirement already satisfied: fonttools>=4.22.0 in c:\\users\\satoy\\anaconda3\\envs\\basic-python\\lib\\site-packages (from matplotlib->japanize-matplotlib) (4.25.0)\n",
      "Requirement already satisfied: six>=1.5 in c:\\users\\satoy\\anaconda3\\envs\\basic-python\\lib\\site-packages (from python-dateutil>=2.7->matplotlib->japanize-matplotlib) (1.16.0)\n"
     ]
    }
   ],
   "source": [
    "#使うライブラリ\n",
    "!pip install japanize-matplotlib\n",
    "import matplotlib.pyplot as plt\n",
    "import pandas as pd\n",
    "import numpy as np\n",
    "import japanize_matplotlib\n",
    "\n",
    "japanize_matplotlib.japanize()"
   ],
   "metadata": {
    "collapsed": false,
    "pycharm": {
     "name": "#%%\n"
    }
   }
  },
  {
   "cell_type": "code",
   "execution_count": 2,
   "outputs": [
    {
     "data": {
      "text/plain": "<Figure size 432x288 with 1 Axes>",
      "image/png": "[encoded data removed]"
     },
     "metadata": {
      "needs_background": "light"
     },
     "output_type": "display_data"
    }
   ],
   "source": [
    "df_task01 = pd.read_csv('../quizzes/matplotlib_quiz/hist_data.csv')\n",
    "fig, ax = plt.subplots()\n",
    "ax.hist(df_task01['aデータ'], histtype='stepfilled', bins=30, alpha=0.3, label='aデータ')\n",
    "ax.hist(df_task01['bデータ'], histtype='stepfilled', bins=30, alpha=0.3, label='bデータ')\n",
    "ax.set_title('aデータとbデータの温度に関する度数分布')\n",
    "ax.set_xlabel('温度(℃)')\n",
    "ax.set_ylabel('度数')\n",
    "leg = ax.legend()\n",
    "plt.show()"
   ],
   "metadata": {
    "collapsed": false,
    "pycharm": {
     "name": "#%%\n"
    }
   }
  },
  {
   "cell_type": "code",
   "execution_count": null,
   "outputs": [],
   "source": [],
   "metadata": {
    "collapsed": false,
    "pycharm": {
     "name": "#%%\n"
    }
   }
  }
 ],
 "metadata": {
  "kernelspec": {
   "display_name": "Python 3",
   "language": "python",
   "name": "python3"
  },
  "language_info": {
   "codemirror_mode": {
    "name": "ipython",
    "version": 2
   },
   "file_extension": ".py",
   "mimetype": "text/x-python",
   "name": "python",
   "nbconvert_exporter": "python",
   "pygments_lexer": "ipython2",
   "version": "2.7.6"
  }
 },
 "nbformat": 4,
 "nbformat_minor": 0
}