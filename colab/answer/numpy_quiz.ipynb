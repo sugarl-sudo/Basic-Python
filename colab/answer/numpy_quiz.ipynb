{
 "cells": [
  {
   "cell_type": "markdown",
   "metadata": {
    "pycharm": {
     "name": "#%% md\n"
    }
   },
   "source": [
    "# Numpyの確認課題"
   ]
  },
  {
   "cell_type": "markdown",
   "metadata": {
    "pycharm": {
     "name": "#%% md\n"
    }
   },
   "source": [
    "## 必要モジュールのインポート\n",
    "\n",
    "この問題で使うモジュールをインポートします．"
   ]
  },
  {
   "cell_type": "code",
   "execution_count": 1,
   "metadata": {
    "pycharm": {
     "name": "#%%\n"
    }
   },
   "outputs": [],
   "source": [
    "import matplotlib.pyplot as plt\n",
    "import numpy as np\n",
    "\n",
    "np.random.seed(0)"
   ]
  },
  {
   "cell_type": "markdown",
   "metadata": {
    "pycharm": {
     "name": "#%% md\n"
    }
   },
   "source": [
    "---"
   ]
  },
  {
   "cell_type": "markdown",
   "metadata": {
    "pycharm": {
     "name": "#%% md\n"
    }
   },
   "source": [
    "### 問1. `ndarray`の生成\n",
    "\n",
    "以下の2つの`ndarray`を定義しなさい．\n",
    "- 観測値 `x`: 初項`0`，末項`5`，項数`100`の等差数列\n",
    "- ノイズ `noise`: 標準正規分布に従う`100`個の乱数"
   ]
  },
  {
   "cell_type": "code",
   "execution_count": 9,
   "outputs": [
    {
     "data": {
      "text/plain": "(array([0.  , 0.05, 0.1 , 0.15, 0.2 , 0.25, 0.3 , 0.35, 0.4 , 0.45, 0.5 ,\n        0.55, 0.6 , 0.65, 0.7 , 0.75, 0.8 , 0.85, 0.9 , 0.95, 1.  , 1.05,\n        1.1 , 1.15, 1.2 , 1.25, 1.3 , 1.35, 1.4 , 1.45, 1.5 , 1.55, 1.6 ,\n        1.65, 1.7 , 1.75, 1.8 , 1.85, 1.9 , 1.95, 2.  , 2.05, 2.1 , 2.15,\n        2.2 , 2.25, 2.3 , 2.35, 2.4 , 2.45, 2.5 , 2.55, 2.6 , 2.65, 2.7 ,\n        2.75, 2.8 , 2.85, 2.9 , 2.95, 3.  , 3.05, 3.1 , 3.15, 3.2 , 3.25,\n        3.3 , 3.35, 3.4 , 3.45, 3.5 , 3.55, 3.6 , 3.65, 3.7 , 3.75, 3.8 ,\n        3.85, 3.9 , 3.95, 4.  , 4.05, 4.1 , 4.15, 4.2 , 4.25, 4.3 , 4.35,\n        4.4 , 4.45, 4.5 , 4.55, 4.6 , 4.65, 4.7 , 4.75, 4.8 , 4.85, 4.9 ,\n        4.95]),\n array([ 1.8831507 , -1.34775906, -1.270485  ,  0.96939671, -1.17312341,\n         1.94362119, -0.41361898, -0.74745481,  1.92294203,  1.48051479,\n         1.86755896,  0.90604466, -0.86122569,  1.91006495, -0.26800337,\n         0.8024564 ,  0.94725197, -0.15501009,  0.61407937,  0.92220667,\n         0.37642553, -1.09940079,  0.29823817,  1.3263859 , -0.69456786,\n        -0.14963454, -0.43515355,  1.84926373,  0.67229476,  0.40746184,\n        -0.76991607,  0.53924919, -0.67433266,  0.03183056, -0.63584608,\n         0.67643329,  0.57659082, -0.20829876,  0.39600671, -1.09306151,\n        -1.49125759,  0.4393917 ,  0.1666735 ,  0.63503144,  2.38314477,\n         0.94447949, -0.91282223,  1.11701629, -1.31590741, -0.4615846 ,\n        -0.06824161,  1.71334272, -0.74475482, -0.82643854, -0.09845252,\n        -0.66347829,  1.12663592, -1.07993151, -1.14746865, -0.43782004,\n        -0.49803245,  1.92953205,  0.94942081,  0.08755124, -1.22543552,\n         0.84436298, -1.00021535, -1.5447711 ,  1.18802979,  0.31694261,\n         0.92085882,  0.31872765,  0.85683061, -0.65102559, -1.03424284,\n         0.68159452, -0.80340966, -0.68954978, -0.4555325 ,  0.01747916,\n        -0.35399391, -1.37495129, -0.6436184 , -2.22340315,  0.62523145,\n        -1.60205766, -1.10438334,  0.05216508, -0.739563  ,  1.5430146 ,\n        -1.29285691,  0.26705087, -0.03928282, -1.1680935 ,  0.52327666,\n        -0.17154633,  0.77179055,  0.82350415,  2.16323595,  1.33652795]))"
     },
     "execution_count": 9,
     "metadata": {},
     "output_type": "execute_result"
    }
   ],
   "source": [
    "x = np.arange(0, 5, 0.05)\n",
    "noise = np.random.randn(100)\n",
    "x, noise"
   ],
   "metadata": {
    "collapsed": false,
    "pycharm": {
     "name": "#%%\n"
    }
   }
  },
  {
   "cell_type": "markdown",
   "source": [
    "---"
   ],
   "metadata": {
    "collapsed": false,
    "pycharm": {
     "name": "#%% md\n"
    }
   }
  },
  {
   "cell_type": "markdown",
   "source": [
    "ここで，真の関数 $y(x) = 3 - 5x + x^2$ を定義します．"
   ],
   "metadata": {
    "collapsed": false,
    "pycharm": {
     "name": "#%% md\n"
    }
   }
  },
  {
   "cell_type": "code",
   "execution_count": 10,
   "outputs": [],
   "source": [
    "def y(x):\n",
    "    \"\"\"真の関数\"\"\"\n",
    "    return 3 - 5 * x + x ** 2"
   ],
   "metadata": {
    "collapsed": false,
    "pycharm": {
     "name": "#%%\n"
    }
   }
  },
  {
   "cell_type": "markdown",
   "source": [
    "### 問2． `ndarray`の操作\n",
    "\n",
    "問1で生成した観測値 `x` に対応する目標値 `t` を定義しなさい．\n",
    "\n",
    "目標値 $t$ は， $t = y(x) + \\epsilon$ と表されます．  ( $y$: 真の関数, $\\epsilon$: ノイズ )  \n",
    "実際の観測値にはどうしてもノイズ(観測誤差)が発生してしまいます．今回は，それを`noise`で再現します．\n",
    "\n",
    "問1で観測値を100個生成したので，それぞれに対応する目標値も100個作成する必要がありますが， `for` 文は絶対使ってはいけません．"
   ],
   "metadata": {
    "collapsed": false,
    "pycharm": {
     "name": "#%% md\n"
    }
   }
  },
  {
   "cell_type": "code",
   "execution_count": 11,
   "outputs": [
    {
     "data": {
      "text/plain": "(100,)"
     },
     "execution_count": 11,
     "metadata": {},
     "output_type": "execute_result"
    }
   ],
   "source": [
    "t = y(x) + noise\n",
    "t.shape"
   ],
   "metadata": {
    "collapsed": false,
    "pycharm": {
     "name": "#%%\n"
    }
   }
  },
  {
   "cell_type": "markdown",
   "source": [
    "matplotlib で可視化すると以下のようなグラフになります．\n",
    "scatter → 散布図"
   ],
   "metadata": {
    "collapsed": false,
    "pycharm": {
     "name": "#%% md\n"
    }
   }
  },
  {
   "cell_type": "code",
   "execution_count": 12,
   "outputs": [
    {
     "data": {
      "text/plain": "<matplotlib.collections.PathCollection at 0x154b11bb940>"
     },
     "execution_count": 12,
     "metadata": {},
     "output_type": "execute_result"
    },
    {
     "data": {
      "text/plain": "<Figure size 432x288 with 1 Axes>",
      "image/png": "[encoded data removed]"
     },
     "metadata": {
      "needs_background": "light"
     },
     "output_type": "display_data"
    }
   ],
   "source": [
    "plt.scatter(x, t)"
   ],
   "metadata": {
    "collapsed": false,
    "pycharm": {
     "name": "#%%\n"
    }
   }
  },
  {
   "cell_type": "markdown",
   "source": [
    "---"
   ],
   "metadata": {
    "collapsed": false,
    "pycharm": {
     "name": "#%% md\n"
    }
   }
  },
  {
   "cell_type": "markdown",
   "source": [
    "### 問3. `ndarray`の結合\n",
    "\n",
    "以下の3つの`ndarray`を垂直方向に結合した2次元配列を転置した行列 `X` を定義しなさい．\n",
    "\n",
    "- x0: 長さが `x` と同じで要素が全て1の`ndarray`\n",
    "- x1: 観測値 `x` の各要素を1乗した`ndarray`\n",
    "- x2: 観測値 `x` の各要素を2乗した`ndarray`\n",
    "\n",
    "例： $x = (1, 2, 3)$ のとき，\n",
    "\n",
    "$$\n",
    "x_0 = (1, 1, 1)\\\\\n",
    "x_1 = (1, 2, 3)\\\\\n",
    "x_2 = (1, 4, 9)\n",
    "$$\n",
    "\n",
    "だから，\n",
    "\n",
    "$$\n",
    "X = \\left(\n",
    "\\begin{array}{ccc}\n",
    "    1 & 1 & 1 \\\\\n",
    "    1 & 2 & 3 \\\\\n",
    "    1 & 4 & 9\n",
    "\\end{array}\n",
    "\\right)^T\n",
    "= \\left(\n",
    "\\begin{array}{ccc}\n",
    "    1 & 1 & 1 \\\\\n",
    "    1 & 2 & 4 \\\\\n",
    "    1 & 3 & 9\n",
    "\\end{array}\n",
    "\\right)\n",
    "$$\n",
    "\n",
    "ちなみに，機械学習では `X` のような行列を計画行列と呼びます．"
   ],
   "metadata": {
    "collapsed": false,
    "pycharm": {
     "name": "#%% md\n"
    }
   }
  },
  {
   "cell_type": "code",
   "execution_count": 15,
   "outputs": [
    {
     "data": {
      "text/plain": "array([[1.00000e+00, 0.00000e+00, 0.00000e+00],\n       [1.00000e+00, 5.00000e-02, 2.50000e-03],\n       [1.00000e+00, 1.00000e-01, 1.00000e-02],\n       [1.00000e+00, 1.50000e-01, 2.25000e-02],\n       [1.00000e+00, 2.00000e-01, 4.00000e-02],\n       [1.00000e+00, 2.50000e-01, 6.25000e-02],\n       [1.00000e+00, 3.00000e-01, 9.00000e-02],\n       [1.00000e+00, 3.50000e-01, 1.22500e-01],\n       [1.00000e+00, 4.00000e-01, 1.60000e-01],\n       [1.00000e+00, 4.50000e-01, 2.02500e-01],\n       [1.00000e+00, 5.00000e-01, 2.50000e-01],\n       [1.00000e+00, 5.50000e-01, 3.02500e-01],\n       [1.00000e+00, 6.00000e-01, 3.60000e-01],\n       [1.00000e+00, 6.50000e-01, 4.22500e-01],\n       [1.00000e+00, 7.00000e-01, 4.90000e-01],\n       [1.00000e+00, 7.50000e-01, 5.62500e-01],\n       [1.00000e+00, 8.00000e-01, 6.40000e-01],\n       [1.00000e+00, 8.50000e-01, 7.22500e-01],\n       [1.00000e+00, 9.00000e-01, 8.10000e-01],\n       [1.00000e+00, 9.50000e-01, 9.02500e-01],\n       [1.00000e+00, 1.00000e+00, 1.00000e+00],\n       [1.00000e+00, 1.05000e+00, 1.10250e+00],\n       [1.00000e+00, 1.10000e+00, 1.21000e+00],\n       [1.00000e+00, 1.15000e+00, 1.32250e+00],\n       [1.00000e+00, 1.20000e+00, 1.44000e+00],\n       [1.00000e+00, 1.25000e+00, 1.56250e+00],\n       [1.00000e+00, 1.30000e+00, 1.69000e+00],\n       [1.00000e+00, 1.35000e+00, 1.82250e+00],\n       [1.00000e+00, 1.40000e+00, 1.96000e+00],\n       [1.00000e+00, 1.45000e+00, 2.10250e+00],\n       [1.00000e+00, 1.50000e+00, 2.25000e+00],\n       [1.00000e+00, 1.55000e+00, 2.40250e+00],\n       [1.00000e+00, 1.60000e+00, 2.56000e+00],\n       [1.00000e+00, 1.65000e+00, 2.72250e+00],\n       [1.00000e+00, 1.70000e+00, 2.89000e+00],\n       [1.00000e+00, 1.75000e+00, 3.06250e+00],\n       [1.00000e+00, 1.80000e+00, 3.24000e+00],\n       [1.00000e+00, 1.85000e+00, 3.42250e+00],\n       [1.00000e+00, 1.90000e+00, 3.61000e+00],\n       [1.00000e+00, 1.95000e+00, 3.80250e+00],\n       [1.00000e+00, 2.00000e+00, 4.00000e+00],\n       [1.00000e+00, 2.05000e+00, 4.20250e+00],\n       [1.00000e+00, 2.10000e+00, 4.41000e+00],\n       [1.00000e+00, 2.15000e+00, 4.62250e+00],\n       [1.00000e+00, 2.20000e+00, 4.84000e+00],\n       [1.00000e+00, 2.25000e+00, 5.06250e+00],\n       [1.00000e+00, 2.30000e+00, 5.29000e+00],\n       [1.00000e+00, 2.35000e+00, 5.52250e+00],\n       [1.00000e+00, 2.40000e+00, 5.76000e+00],\n       [1.00000e+00, 2.45000e+00, 6.00250e+00],\n       [1.00000e+00, 2.50000e+00, 6.25000e+00],\n       [1.00000e+00, 2.55000e+00, 6.50250e+00],\n       [1.00000e+00, 2.60000e+00, 6.76000e+00],\n       [1.00000e+00, 2.65000e+00, 7.02250e+00],\n       [1.00000e+00, 2.70000e+00, 7.29000e+00],\n       [1.00000e+00, 2.75000e+00, 7.56250e+00],\n       [1.00000e+00, 2.80000e+00, 7.84000e+00],\n       [1.00000e+00, 2.85000e+00, 8.12250e+00],\n       [1.00000e+00, 2.90000e+00, 8.41000e+00],\n       [1.00000e+00, 2.95000e+00, 8.70250e+00],\n       [1.00000e+00, 3.00000e+00, 9.00000e+00],\n       [1.00000e+00, 3.05000e+00, 9.30250e+00],\n       [1.00000e+00, 3.10000e+00, 9.61000e+00],\n       [1.00000e+00, 3.15000e+00, 9.92250e+00],\n       [1.00000e+00, 3.20000e+00, 1.02400e+01],\n       [1.00000e+00, 3.25000e+00, 1.05625e+01],\n       [1.00000e+00, 3.30000e+00, 1.08900e+01],\n       [1.00000e+00, 3.35000e+00, 1.12225e+01],\n       [1.00000e+00, 3.40000e+00, 1.15600e+01],\n       [1.00000e+00, 3.45000e+00, 1.19025e+01],\n       [1.00000e+00, 3.50000e+00, 1.22500e+01],\n       [1.00000e+00, 3.55000e+00, 1.26025e+01],\n       [1.00000e+00, 3.60000e+00, 1.29600e+01],\n       [1.00000e+00, 3.65000e+00, 1.33225e+01],\n       [1.00000e+00, 3.70000e+00, 1.36900e+01],\n       [1.00000e+00, 3.75000e+00, 1.40625e+01],\n       [1.00000e+00, 3.80000e+00, 1.44400e+01],\n       [1.00000e+00, 3.85000e+00, 1.48225e+01],\n       [1.00000e+00, 3.90000e+00, 1.52100e+01],\n       [1.00000e+00, 3.95000e+00, 1.56025e+01],\n       [1.00000e+00, 4.00000e+00, 1.60000e+01],\n       [1.00000e+00, 4.05000e+00, 1.64025e+01],\n       [1.00000e+00, 4.10000e+00, 1.68100e+01],\n       [1.00000e+00, 4.15000e+00, 1.72225e+01],\n       [1.00000e+00, 4.20000e+00, 1.76400e+01],\n       [1.00000e+00, 4.25000e+00, 1.80625e+01],\n       [1.00000e+00, 4.30000e+00, 1.84900e+01],\n       [1.00000e+00, 4.35000e+00, 1.89225e+01],\n       [1.00000e+00, 4.40000e+00, 1.93600e+01],\n       [1.00000e+00, 4.45000e+00, 1.98025e+01],\n       [1.00000e+00, 4.50000e+00, 2.02500e+01],\n       [1.00000e+00, 4.55000e+00, 2.07025e+01],\n       [1.00000e+00, 4.60000e+00, 2.11600e+01],\n       [1.00000e+00, 4.65000e+00, 2.16225e+01],\n       [1.00000e+00, 4.70000e+00, 2.20900e+01],\n       [1.00000e+00, 4.75000e+00, 2.25625e+01],\n       [1.00000e+00, 4.80000e+00, 2.30400e+01],\n       [1.00000e+00, 4.85000e+00, 2.35225e+01],\n       [1.00000e+00, 4.90000e+00, 2.40100e+01],\n       [1.00000e+00, 4.95000e+00, 2.45025e+01]])"
     },
     "execution_count": 15,
     "metadata": {},
     "output_type": "execute_result"
    }
   ],
   "source": [
    "X = np.array([[1]*len(x), x, x**2]).T\n",
    "X"
   ],
   "metadata": {
    "collapsed": false,
    "pycharm": {
     "name": "#%%\n"
    }
   }
  },
  {
   "cell_type": "markdown",
   "source": [
    "---"
   ],
   "metadata": {
    "collapsed": false,
    "pycharm": {
     "name": "#%% md\n"
    }
   }
  },
  {
   "cell_type": "markdown",
   "source": [
    "### 問4. 線形代数\n",
    "\n",
    "観測値 `x, t` をもとに真の関数 `y` を2次関数で回帰しなさい．\n",
    "\n",
    "任意の2次関数は $y(x) = w_0 + w_1 x + w_2 x^2$ と表すことができます．\n",
    "なので，パラメータのベクトル $\\mathbf{w} = (w_0, w_1, w_2)$ を求めれば良いことになります．\n",
    "\n",
    "これは以下の正規方程式から求めることができます．\n",
    "\n",
    "$ \\mathbf{w} = (X^T X)^{-1} X^T \\mathbf{t} $\n",
    "\n",
    "この式の導出はdev_data勉強会で学びます．\n",
    "\n",
    "行列の積が多い場合は`np.dot`を使わない方が簡潔に書けます．"
   ],
   "metadata": {
    "collapsed": false,
    "pycharm": {
     "name": "#%% md\n"
    }
   }
  },
  {
   "cell_type": "code",
   "execution_count": 21,
   "outputs": [],
   "source": [
    "dot_1 = np.dot(np.dot(np.linalg.inv(np.dot(X.T, X)), X.T), t)\n",
    "w0, w1, w2 = dot_1[0], dot_1[1], dot_1[2]\n",
    "pred_y = w0 + w1 * x + w2 * x ** 2"
   ],
   "metadata": {
    "collapsed": false,
    "pycharm": {
     "name": "#%%\n"
    }
   }
  },
  {
   "cell_type": "markdown",
   "metadata": {
    "pycharm": {
     "name": "#%% md\n"
    }
   },
   "source": [
    "---"
   ]
  },
  {
   "cell_type": "markdown",
   "metadata": {
    "pycharm": {
     "name": "#%% md\n"
    }
   },
   "source": [
    "### 結果\n",
    "\n",
    "先ほどのグラフに真の関数(緑)と回帰曲線(赤)を重ねると以下のようになります．"
   ]
  },
  {
   "cell_type": "code",
   "execution_count": 22,
   "metadata": {
    "pycharm": {
     "name": "#%%\n"
    }
   },
   "outputs": [
    {
     "data": {
      "text/plain": "<matplotlib.legend.Legend at 0x154b3e36e00>"
     },
     "execution_count": 22,
     "metadata": {},
     "output_type": "execute_result"
    },
    {
     "data": {
      "text/plain": "<Figure size 432x288 with 1 Axes>",
      "image/png": "[encoded data removed]"
     },
     "metadata": {
      "needs_background": "light"
     },
     "output_type": "display_data"
    }
   ],
   "source": [
    "plt.scatter(x, t)\n",
    "plt.plot(x, pred_y, linewidth=5, color=\"red\", label=\"pred\")\n",
    "plt.plot(x, y(x), linewidth=5, color=\"green\", label=\"true\")\n",
    "plt.legend()"
   ]
  },
  {
   "cell_type": "markdown",
   "metadata": {
    "pycharm": {
     "name": "#%% md\n"
    }
   },
   "source": [
    "今回使った手法は 真の関数 `y` の定義を変更するとその他のコードを全く変更しなくても同様に回帰することができます．\n",
    "\n",
    "例えば以下のように変更したらその関数を回帰します．\n",
    "\n",
    "```python\n",
    "def y(x):\n",
    "    \"\"\"真の関数\"\"\"\n",
    "    return 5 * np.sin(np.pi * x / 5)\n",
    "```\n",
    "dev_data勉強会で詳しくやりますが，この回帰曲線の表現力は2次までです．\n",
    "カーブが2つ以上の曲線を回帰したい場合は問3の計画行列の列数を　`x3, x4...`　のように増やせば表現力が上がります．"
   ]
  },
  {
   "cell_type": "code",
   "execution_count": null,
   "metadata": {
    "pycharm": {
     "name": "#%%\n"
    }
   },
   "outputs": [],
   "source": []
  }
 ],
 "metadata": {
  "kernelspec": {
   "display_name": "Python 3",
   "language": "python",
   "name": "python3"
  },
  "language_info": {
   "codemirror_mode": {
    "name": "ipython",
    "version": 3
   },
   "file_extension": ".py",
   "mimetype": "text/x-python",
   "name": "python",
   "nbconvert_exporter": "python",
   "pygments_lexer": "ipython3",
   "version": "3.7.4"
  }
 },
 "nbformat": 4,
 "nbformat_minor": 4
}