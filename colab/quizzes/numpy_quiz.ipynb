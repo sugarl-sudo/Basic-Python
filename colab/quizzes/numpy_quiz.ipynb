{
 "cells": [
  {
   "cell_type": "markdown",
   "metadata": {
    "pycharm": {
     "name": "#%% md\n"
    }
   },
   "source": [
    "# Numpyの確認課題"
   ]
  },
  {
   "cell_type": "markdown",
   "metadata": {
    "pycharm": {
     "name": "#%% md\n"
    }
   },
   "source": [
    "## 必要モジュールのインポート\n",
    "\n",
    "この問題で使うモジュールをインポートします．"
   ]
  },
  {
   "cell_type": "code",
   "execution_count": 11,
   "metadata": {
    "pycharm": {
     "name": "#%%\n"
    }
   },
   "outputs": [],
   "source": [
    "import matplotlib.pyplot as plt\n",
    "import numpy as np\n",
    "\n",
    "np.random.seed(0)"
   ]
  },
  {
   "cell_type": "markdown",
   "metadata": {
    "pycharm": {
     "name": "#%% md\n"
    }
   },
   "source": [
    "---"
   ]
  },
  {
   "cell_type": "markdown",
   "metadata": {
    "pycharm": {
     "name": "#%% md\n"
    }
   },
   "source": [
    "### 問1. `ndarray`の生成\n",
    "\n",
    "以下の2つの`ndarray`を定義しなさい．\n",
    "- 観測値 `x`: 初項`0`，末項`5`，項数`100`の等差数列\n",
    "- ノイズ `noise`: 標準正規分布に従う`100`個の乱数"
   ]
  },
  {
   "cell_type": "code",

   ],
   "metadata": {
    "collapsed": false,
    "pycharm": {
     "name": "#%%\n"
    }
   }
  },
  {
   "cell_type": "markdown",
   "source": [
    "---"
   ],
   "metadata": {
    "collapsed": false,
    "pycharm": {
     "name": "#%% md\n"
    }
   }
  },
  {
   "cell_type": "markdown",
   "source": [
    "ここで，真の関数 $y(x) = 3 - 5x + x^2$ を定義します．"
   ],
   "metadata": {
    "collapsed": false,
    "pycharm": {
     "name": "#%% md\n"
    }
   }
  },
  {
   "cell_type": "code",

   "outputs": [],
   "source": [
    "def y(x):\n",
    "    \"\"\"真の関数\"\"\"\n",
    "    return 3 - 5 * x + x ** 2"
   ],
   "metadata": {
    "collapsed": false,
    "pycharm": {
     "name": "#%%\n"
    }
   }
  },
  {
   "cell_type": "markdown",
   "source": [
    "### 問2． `ndarray`の操作\n",
    "\n",
    "問1で生成した観測値 `x` に対応する目標値 `t` を定義しなさい．\n",
    "\n",
    "目標値 $t$ は， $t = y(x) + \\epsilon$ と表されます．  ( $y$: 真の関数, $\\epsilon$: ノイズ )  \n",
    "実際の観測値にはどうしてもノイズ(観測誤差)が発生してしまいます．今回は，それを`noise`で再現します．\n",
    "\n",
    "問1で観測値を100個生成したので，それぞれに対応する目標値も100個作成する必要がありますが， `for` 文は絶対使ってはいけません．"
   ],
   "metadata": {
    "collapsed": false,
    "pycharm": {
     "name": "#%% md\n"
    }
   }
  },
  {
   "cell_type": "code",

   ],
   "metadata": {
    "collapsed": false,
    "pycharm": {
     "name": "#%%\n"
    }
   }
  },
  {
   "cell_type": "markdown",
   "source": [
    "matplotlib で可視化すると以下のようなグラフになります．\n",
    "scatter → 散布図"
   ],
   "metadata": {
    "collapsed": false,
    "pycharm": {
     "name": "#%% md\n"
    }
   }
  },
  {
   "cell_type": "code",

   "source": [
    "plt.scatter(x, t)"
   ],
   "metadata": {
    "collapsed": false,
    "pycharm": {
     "name": "#%%\n"
    }
   }
  },
  {
   "cell_type": "markdown",
   "source": [
    "---"
   ],
   "metadata": {
    "collapsed": false,
    "pycharm": {
     "name": "#%% md\n"
    }
   }
  },
  {
   "cell_type": "markdown",
   "source": [
    "### 問3. `ndarray`の結合\n",
    "\n",
    "以下の3つの`ndarray`を垂直方向に結合した2次元配列を転置した行列 `X` を定義しなさい．\n",
    "\n",
    "- x0: 長さが `x` と同じで要素が全て1の`ndarray`\n",
    "- x1: 観測値 `x` の各要素を1乗した`ndarray`\n",
    "- x2: 観測値 `x` の各要素を2乗した`ndarray`\n",
    "\n",
    "例： $x = (1, 2, 3)$ のとき，\n",
    "\n",
    "$$\n",
    "x_0 = (1, 1, 1)\\\\\n",
    "x_1 = (1, 2, 3)\\\\\n",
    "x_2 = (1, 4, 9)\n",
    "$$\n",
    "\n",
    "だから，\n",
    "\n",
    "$$\n",
    "X = \\left(\n",
    "\\begin{array}{ccc}\n",
    "    1 & 1 & 1 \\\\\n",
    "    1 & 2 & 3 \\\\\n",
    "    1 & 4 & 9\n",
    "\\end{array}\n",
    "\\right)^T\n",
    "= \\left(\n",
    "\\begin{array}{ccc}\n",
    "    1 & 1 & 1 \\\\\n",
    "    1 & 2 & 4 \\\\\n",
    "    1 & 3 & 9\n",
    "\\end{array}\n",
    "\\right)\n",
    "$$\n",
    "\n",
    "ちなみに，機械学習では `X` のような行列を計画行列と呼びます．"
   ],
   "metadata": {
    "collapsed": false,
    "pycharm": {
     "name": "#%% md\n"
    }
   }
  },
  {
   "cell_type": "code",

   ],
   "metadata": {
    "collapsed": false,
    "pycharm": {
     "name": "#%%\n"
    }
   }
  },
  {
   "cell_type": "markdown",
   "source": [
    "---"
   ],
   "metadata": {
    "collapsed": false,
    "pycharm": {
     "name": "#%% md\n"
    }
   }
  },
  {
   "cell_type": "markdown",
   "source": [
    "### 問4. 線形代数\n",
    "\n",
    "観測値 `x, t` をもとに真の関数 `y` を2次関数で回帰しなさい．\n",
    "\n",
    "任意の2次関数は $y(x) = w_0 + w_1 x + w_2 x^2$ と表すことができます．\n",
    "なので，パラメータのベクトル $\\mathbf{w} = (w_0, w_1, w_2)$ を求めれば良いことになります．\n",
    "\n",
    "これは以下の正規方程式から求めることができます．\n",
    "\n",
    "$ \\mathbf{w} = (X^T X)^{-1} X^T \\mathbf{t} $\n",
    "\n",
    "この式の導出はdev_data勉強会で学びます．\n",
    "\n",
    "行列の積が多い場合は`np.dot`を使わない方が簡潔に書けます．"
   ],
   "metadata": {
    "collapsed": false,
    "pycharm": {
     "name": "#%% md\n"
    }
   }
  },
  {
   "cell_type": "code",

    "pred_y = w0 + w1 * x + w2 * x ** 2"
   ],
   "metadata": {
    "collapsed": false,
    "pycharm": {
     "name": "#%%\n"
    }
   }
  },
  {
   "cell_type": "markdown",
   "metadata": {
    "pycharm": {
     "name": "#%% md\n"
    }
   },
   "source": [
    "---"
   ]
  },
  {
   "cell_type": "markdown",
   "metadata": {
    "pycharm": {
     "name": "#%% md\n"
    }
   },
   "source": [
    "### 結果\n",
    "\n",
    "先ほどのグラフに真の関数(緑)と回帰曲線(赤)を重ねると以下のようになります．"
   ]
  },
  {
   "cell_type": "code",
   "execution_count": 10,
   "metadata": {
    "pycharm": {
     "name": "#%%\n"
    }
   },
   "outputs": [
    {
     "data": {
      "text/plain": "<matplotlib.legend.Legend at 0x2aada16ab00>"
     },
     "execution_count": 10,
     "metadata": {},
     "output_type": "execute_result"
    },
    {
     "data": {
      "text/plain": "<Figure size 432x288 with 1 Axes>",
      "image/png": "iVBORw0KGgoAAAANSUhEUgAAAYwAAAD4CAYAAAD//dEpAAAAOXRFWHRTb2Z0d2FyZQBNYXRwbG90bGliIHZlcnNpb24zLjUuMSwgaHR0cHM6Ly9tYXRwbG90bGliLm9yZy/YYfK9AAAACXBIWXMAAAsTAAALEwEAmpwYAAAsUklEQVR4nO3deXxV9Z3/8dcnG0mAAEJQJCxRUVyKKCniSGtbXGj1obbVEduqndHSUVvttL9OFzuOU3WqdWutowxW61a1uG+41qXVChIwIiAoCEpkCyASDNk/vz/OSXKT3C3JvblA3s/H4zxy7vds33Nzc9/5fs9m7o6IiEgiWZmugIiI7B4UGCIikhQFhoiIJEWBISIiSVFgiIhIUnIyXYF0GTZsmI8dOzbT1RAR2a0sXLhws7sXR5u2xwbG2LFjKS8vz3Q1RER2K2b2Yaxp6pISEZGkKDBERCQpCgwREUnKHnsMQ0SkuxoaGqisrKS2tjbTVUmb/Px8SkpKyM3NTXoZBYaISAeVlZUMHDiQsWPHYmaZrk7KuTtbtmyhsrKS0tLSpJdLa5eUmR1kZhURw3Yz+5GZXW5mH0eUfy1imV+Y2UozW2FmJ0aUTzKzd8JpN1lv/BYbG+H996GqKu2bEpFdR21tLUOHDt0jwwLAzBg6dGiXW1BpDQx3X+HuE919IjAJqAEeDSff2DLN3ecCmNkhwAzgUGA6cIuZZYfz3wrMBMaFw/R01p1162DqVDjwQCgpgdmz07o5Edm17Klh0aI7+9ebB72nAavcPeY5vsCpwAPuXufuq4GVwGQzGwEUufsbHtyP/W7gtLTW9uabYf78YLy+Hn70I9ixI62bFBHZlfVmYMwA7o94/QMzW2xmd5jZkLBsJLA2Yp7KsGxkON6xvB0zm2lm5WZWXtXTbqTf/Kb965074YEHerZOEZFe9sorr3DyySenZF29EhhmlgecAjwYFt0K7A9MBNYD17fMGmVxj1PevsB9truXuXtZcXHUK9t75pNPUr9OEZFuaGpq6vVt9lYL46vAInffCODuG929yd2bgduAyeF8lcCoiOVKgHVheUmU8t7Vr1+vb1JEMsgs/UMUa9asYfz48Zx77rlMmDCB008/nZqaGsaOHcuvf/1rpk6dyoMPPsjzzz/P0UcfzZFHHskZZ5zBjrDb/Nlnn2X8+PFMnTqVRx55JGVvR28FxllEdEeFxyRafB1YEo4/Acwws35mVkpwcPtNd18PVJvZlPDsqHOAx3un6hEUGCLSS1asWMHMmTNZvHgxRUVF3HLLLUBw/cRrr73Gcccdx5VXXsmLL77IokWLKCsr44YbbqC2tpbvfe97PPnkk/z9739nw4YNKatT2q/DMLNC4Hjg+xHFvzWziQTdSmtaprn7UjObAywDGoGL3L2l3XUBcCdQADwTDr0rL6/XNykifdOoUaM45phjAPjOd77DTTfdBMCZZ54JwLx581i2bFnrPPX19Rx99NEsX76c0tJSxo0b17rs7BSd5Zn2wHD3GmBoh7Kz48x/FXBVlPJy4LCUV7Ar1MIQkV7S8bTXltf9+/cHgovvjj/+eO6///5281VUVKTtlGDdSyqahobo5Vl6u0Skd3z00Ue88cYbANx///1MnTq13fQpU6bw+uuvs3LlSgBqamp47733GD9+PKtXr2bVqlWty6aKvgGj+eyz6OUZOCtBRDLIPf1DDAcffDB33XUXEyZMYOvWrVxwwQXtphcXF3PnnXdy1llnMWHCBKZMmcLy5cvJz89n9uzZnHTSSUydOpUxY8ak7O3QvaSiiRUYjY29Ww8R6bOysrKYNWtWu7I1a9a0e/2Vr3yFBQsWdFp2+vTpLF++PPV1Svka9wQ1NdHLFRgi0ocpMKJRC0NEMmjs2LEsWbIk8Yy9TIERjY5hiIh0osCIRl1SIiKdKDCiUZeUiEgnCoxoFBgiIp0oMKJRl5SIZNC2bdta7x21K1FgRKMWhohkUKzAyMQtzSPpwr1o1MIQEcD+O/2PafX/6ny1989//nNWrVrFxIkTyc3NZcCAAYwYMYKKigrmzp3LySef3Hra7XXXXceOHTu4/PLLWbVqFRdddBFVVVUUFhZy2223MX78+JTVVYERjVoYIpJBV199NUuWLKGiooJXXnmFk046iSVLllBaWtrpau9IM2fOZNasWYwbN4758+dz4YUX8tJLL6WsXgqMaBQYIrILmTx5MqWlpXHn2bFjB//4xz8444wzWsvq6upSWg8FRjTqkhKRXUjLLc0BcnJyaG5ubn1dW1sLQHNzM4MHD6aioiJt9dBB72jUwhCRDBo4cCDV1dVRp+29995s2rSJLVu2UFdXx1NPPQVAUVERpaWlPPjgg0DwvIy33347pfVSCyMaBYaIEP2AdG8YOnQoxxxzDIcddhgFBQXsvfferdNyc3O57LLLOOqooygtLW13UPvPf/4zF1xwAVdeeSUNDQ3MmDGDww8/PGX16o1HtK4BqoEmoNHdy8xsL+AvwFiCR7T+s7t/Es7/C+C8cP6L3f25sHwSbY9onQtc4h7nZvI9oS4pEcmw++67L+a0iy++mIsvvrhTeWlpKc8++2za6tRbXVJfdveJ7l4Wvv458Fd3Hwf8NXyNmR0CzAAOBaYDt5hZdrjMrcBMYFw4TE9bbdXCEBHpJFPHME4F7grH7wJOiyh/wN3r3H01sBKYbGYjgCJ3fyNsVdwdsUzqKTBERDrpjcBw4HkzW2hmM8Oyvd19PUD4c3hYPhJYG7FsZVg2MhzvWJ4e6pIS6fPS1eO9q+jO/vXGQe9j3H2dmQ0HXjCzeM8NjHZZpccpb79wEEgzAUaPHt2dugbUwhDp0/Lz89myZQtDhw7FLP1Xe/c2d2fLli3k5+d3abm0B4a7rwt/bjKzR4HJwEYzG+Hu68Pupk3h7JXAqIjFS4B1YXlJlPKO25oNzAYoKyvr/r8HamGI9GklJSVUVlZSVVWV6aqkTX5+PiUlJYlnjJDWwDCz/kCWu1eH4ycAvwaeAM4Frg5/Ph4u8gRwn5ndAOxLcHD7TXdvMrNqM5sCzAfOAf6QtoqrhSHSp+Xm5ia8srovSncLY2/g0bBJlwPc5+7PmtkCYI6ZnQd8BJwB4O5LzWwOsAxoBC5y95bbM15A22m1z4RD6jU0BEM0CgwR6cPSGhju/gHQ6aoRd98CTIuxzFXAVVHKy4HDUl3HTmJ1R4ECQ0T6NN0apKNY3VGgwBCRPk2B0ZECQ0QkKgVGR+qSEhGJSoHRkVoYIiJRKTA6UmCIiESlwOhIXVIiIlEpMDpSC0NEJCoFRkdqYYiIRKXA6EgtDBGRqBQYHSkwRESiUmB0pC4pEZGoFBgdqYUhIhKVAqMjBYaISFQKjI7UJSUiEpUCoyO1MEREolJgdKQWhohIVAqMjtTCEBGJSoHRUbzAcIfm5t6ri4jILiStgWFmo8zsZTN718yWmtklYfnlZvaxmVWEw9cilvmFma00sxVmdmJE+SQzeyecdpOFDwpPuXhdUqBWhoj0WWl9pjfQCPzE3ReZ2UBgoZm9EE670d2vi5zZzA4BZgCHAvsCL5rZge7eBNwKzATmAXOB6cAzKa9xvBYGBIGRl5fyzYqI7OrS2sJw9/XuvigcrwbeBUbGWeRU4AF3r3P31cBKYLKZjQCK3P0Nd3fgbuC0tFQ6mcAQEemDeu0YhpmNBY4A5odFPzCzxWZ2h5kNCctGAmsjFqsMy0aG4x3LO25jppmVm1l5VVVV9yqqLikRkah6JTDMbADwMPAjd99O0L20PzARWA9c3zJrlMU9Tnn7AvfZ7l7m7mXFxcVdr2hjI9TXJ55HRKQPSntgmFkuQVj82d0fAXD3je7e5O7NwG3A5HD2SmBUxOIlwLqwvCRKeWol6o6CrgWGe+IAEhHZTaT7LCkDbgfedfcbIspHRMz2dWBJOP4EMMPM+plZKTAOeNPd1wPVZjYlXOc5wOMpr3Ci7ihIPjBuvx2GDIGBA+Hii4PwEBHZjaX7LKljgLOBd8ysIiz7JXCWmU0k6FZaA3wfwN2XmtkcYBnBGVYXhWdIAVwA3AkUEJwd1ftnSEHnwKiogOuvh6ws+OUv4aCDYPVqOP/8tnn+8AeYMKF9mYjIbsZ8D/3Pt6yszMvLy7u20OLFcPjh8edZsQIOPDAY/+ADOPjgtm6nwkL46COYMwcuvLD9ctnZOv4hIrs8M1vo7mXRpulK70hdbWE88ED7YxQ1NXDLLfD2252Xa2qCd97peR1FRDJEgRGpq4Fx6aWdp19+OTQ0RF/2nnu6VS0RkV2BAiNSVw96Z0V5+5qbYf366Mv++c9BS0NEZDekwIjU1RbGoEHR51kX44zfdevgpZe6Xi8RkV2AAiNSVwOjqCj6PLFaGKBuKRHZbSkwIiXTJRXZpRSrhbFpU+zlH34YduzoWr1k17N9O9x6K9x8M2zblunaiPQKBUakrrYwunOH9ZqaIDRk9/XZZzBxYnDq9A9/GFxjs317pmslknYKjEhdDYzuthR+9ztd+b07u+ee4OLMFmvXwk03Za4+Ir1EgRGpq2dJdTcwKipg7tzuLSups2kTPPRQ8PvoimgtxP/8z5RUqVVzM/zpT3DWWXDllbBzZ2rXL9IN6b41yO6lqy2M6urub+uKK+BrX+tet5b03Lx5cNxxbb/za66B//iP5JaNdQeBykooKYk+ratuuAF++tO212+/DQ8+mJp1i3STWhiRutLCaGpKbn4I+rs7mj8f/vrXpKsmKfb//l/7fxAuvzy5g9eNjbH/23/yyVTULFj/VVe1L3vooSCQRDJIgRGpKy2MZMMCgpsOHnFE5/Ljj4dp02DqVPif/4l9hfiuoLoaLrsMTjkF/u//gi6T3dXGjfD66+3Ldu6EBQsSL/v++1BXF33a4928gfIHHwTdXB98ELx+5JHo4fXaa91bv0iKqEsqUlcCoyvHL0aOhF/9Cr75zc7TWi7ka/kC++Uvk19vT23ZEnz57btv/Pnc4dvfbvsP+sknobYWLrkk/XVMh2efjV6+aFEQ4vEsXhx72ksvBWdLxbo+J5p774Xvfjdosebnw333wR//GH3e116DGTOSX7dIiqmFEakrXVJdCYwRI+C00+CQQ+LPd/PNvfOfu3vQX19cHITZN78Z/0FPr7/eubvliiva3otly2D27Nh9+7uaWCccLFqUeNl4gdHQAM89l3w9Ghrgxz9uu7antjYI5ldeiT6/WhiSYQqMSOlqYey7b3DfqWg3K4y0fj0sXJj8epNRVxd0lTzzTFsYzZkD117bdmrvI48EZ+LEcsstncu2bIFXX4X774dDD4Xvfx8mTw66q1Ltgw/gRz8KvkxffTX+vIlOV473pZ5MYCS643BXuqXKy6Hjs+fjnQ21eDF8+mny65e+6aGH4OWX07Nud98jh0mTJnmXHXige/CVE3uYPTuY99VXE8/bMtTXB8s0NLj/0z/Fn/dXvwrmra93f/fdtmW746OP3A87rG3dX/qS++bN7qWlnbdbUOC+dm3ndWzY4J6bG72uZ5/tPmRI+7LiYvfGxu7XuaONG91Hj25bf06Oe0VF5/neest94kT3wkL3k092X7Qo+voS/d62bYtfnzFj4i8/eHDyv7P/+Z/kP0MtwzPPJLdud/faWvf333f/29/cH3jA/bbb3P/3f91vvNH9T38KPguyZ5k7N/h77dfP/cknu7UKoNxjfK9m/Is9XUO3AqOkJPEf7C23BPM+/XRyf+DFxe23sW2b+5VXup9/vvuIEZ3n/9zn3N98032vvYLXI0e6P/po1/fls8/cjzyy8/rj7eO553Zez1VXdf1L7d13u17fWH7yk87rnzGj/TwbN7oPHdp+HjP3737X/Yc/dP/854OQnDHD/Zxz4tf95Zfbr3vrVvcHH3R//vngCzaZ/X/ppeT27YQTuv7eXnpp4vU2NwfzFRbGX9fw4e4LFiRX113JsmXBPytTpgSfz6amTNdo1/DKK+75+W2/35wc9/vv7/JqFBjJ+ta33L/yFfejjgq+uKP9kd10UzDvX/6S3B/44YfH3t7atcmtw8z9mmvcP/zQ/be/dT/zzKAlsmZN9PU2Nwdfjl39MjJr/595Y6P7qFFdX88DDwTL/va37lOnuh9zjPs3vuF+wQXu997rvnNncr+PDRuClk/H9Q8eHLTWWpx5ZtfrGGu4/vq29a5e7b7ffm3TOramYg1f+UrwO4invj7xF3q04dhjE79vc+cmv76BA93//vfEv4d589xramLP8+ijwT9BN9wQhGy63HNP5/ft4ovTt73mZvclS9x//3v3P/zBfd262PM2NSX/2e6uDz+M/v4uWBD8LqP9TT/9dJc2ES8wdqtHtJrZdOD3QDbwR3e/Ota83XlEa8WGCp5d+hH3zf+Qqh11zHzrSaYv+RuRl9bdMekUXj5iGseumMf3/nZ/W91irLN83/H87qQLMaC6tpEB+bkR4zlc+fA17LelEovxa4i1XnNoNOMfB3yeOQcfS9WIMZgZNTvrOXfJ85y+8JlO88cSuY2Vw0bz4qFTqcwt4uDtG/jO/MdiLxijfo8ceSJbsgv43oLHom57/tgJXPu1C9le18TA/OBEveraYNyA7bWNDMzP4dzXH+TUiheibvffT/4xH445mKNWv8XPn45yjCWBWO/ri/t/npu/OpMsdy57+Fombni/y+sGuOpL/8KCw/6J4dVb6Ld1C1UjxlCX169138ZvWMXVD8X8+MZUl53Lt7/3e5pyclvXNaCuhi2NRr/+BRhw/vN3ctJ7rydcV4ud2blcfdJFLB59aOs6B9Vs58jlbzJt9UIO3rCSLIfq/EKe+uGvebJxLzZV14W/L2fK4r/x07/f27q+TwqKuP2LZ/LcyImMav6MfbZvZiP9+GSfErDgs9/2e4813hDxt9LAkGz413/8hROW/r11O5Efq0tPuJAVB0xo/duaWL+FmRVPMGzlu3zSbwCVw0pYO3QkHxYMobZoMJ/2L+LTBijMy8YMPsoeQM7A/q31OHDnZr74/puUrVzE6O2bWrdVl53DXw+Zypzxx9Ivvx9FdTsYs/Z9Jq9fzmEfv0deYz3L9h3HUxOP4/Vh4yjOauTATR+Q/+k2Vo86iKpBw6iubaB4YD8mjR3C2ys3MvCj1Rz66ccMr97M1ux8tgwdwYbBxbxXMJT8wnwA+ldt5N/fuJ+DNq6mPiubpyYez2NHnkh1XTMH1VTxy6dvYmBdTaf3JX/sERzx/OtQUJD05yHeI1p3m8Aws2zgPeB4oBJYAJzl7suizd+dwBh9w0GsrX6vp1UVEdkl7F1/GrNOv5nTjhiZ9DJ7yjO9JwMr3f0Dd68HHgBOTeUGNu+IcUGWiMhuaKflcO1zK1K2vt0pMEYCayNeV4ZlrcxsppmVm1l5VcfTFZPQ2LR7tLZERJK1blvqbly5OwVGtG7ndt/w7j7b3cvcvay4uLjLG8jJ1o0ARWTPsu/g5I9fJLI73RqkEhgV8boEiPHw7O4p23ciCyoLaA6P6+xTvYUR1ZtbpzuwccBerC8axuhtG9irJnhojsfJmfeHjqImLz9iDZ0NqPuMsZ90fqzrx0XD+KRwENnNTRQ01NKQnUNdTh4OZLkzeGc1g2p3UNhQ26ke1XmFbC0s4rO8gtbtmkNhw07M4bO8gnbz5zU1UNBQR25TA3lNDWR5M47hZjRZFtX9+lOTl092czP7b1mLJdjvyPcM4JOCgQzZ2fnuvlsLithaWISbAc6+2ze37k+kZjOyIo63RXsnq/oP5tP8ATHrkt9Yz/AdW8ltbqTRstg0cCj5DXXstbN7Dz+qy86lctDera8H11YztKZ7F9Z9lpvPhoHDOpUbTunWdViMz04yNg7Yix15hZ3X7c6QndsZUlsd9aQIN+PT/AHkN9SR3xj7TgAdPwaNWdnkNAdXrzvQkJ1DblNj63zxTsCIt16Amtx+bOq/F/U5uQysq2Hf7ZujzEXrtrcWDqImr4B+jfXkNTWQ09xEdnMTOc3NWPh5ynJvrW/kduuyc9lWMJBP+w2gMTubnOZmhtZ8SlHtDnKbGmnOyqLJsmjMyqEmL5/qvP7kNDcyrGYbhQ11rftan51DdnMT2RGf38h9a8jKZmduPrU5/chubqJfUwP963e2m79t//MprK+N+t58mj+AykF705Dd9rVekDWcn554UMz3qKt2p8BYAIwzs1LgY2AG8K1UbuBv5z/GY299zLXPrWDdtp1c8s4j/OjFO9rNM+uoLzPrqzO59sUrOX7Z32Osqc3RF1zBzr1HYAbbahoYVJDbabymsYZn7j+f4dVbWpdbVTyaE7/7B/YvGMCXxxfz8vIq1m3byaC8iOUH5GIDwTZvZnrl2xxe+S4f9yvir0cez7qhI2iuaWBMVoft5QTjo7M7lGfDtsYGBg3sXL9tNQ2MzQ/H6xr4/oqH+OFLd7bWddPIUoZ/vDru+3DCj2fxs5dvYdq7Hc/e2c7O3DpW7lXCsJ3bGbG9c1isLyrmNyf/gJvu+6+Y61824gDOnnkTW2ubo77H22oa2HdwAdOOGEzFolWsqM9hv7z+HPPRAv733l/FrfstXz6HC1++u1P5Q5OO56fHXdi6jWqv5dYXfsOXV8wDYGdOP+4+5nT+94hTmFr1PtfPuYKChujHyf572tk8f9yM9r/rcL3XPfMrpq1K4saIMZz4779nU8Hw6J+/gTB601JumPs79t/8Uesyz3zuS1wx9VzyB+zL0M8+4fFb/4UB9Ym7Nr7xnWv5qPQQDt6wko1NOWwdOZamnBwaPvmUE9a9w+GV79JQ38Dm4pF8vNc+VFohI5t3ct2cK+KG0ub+Q7jmpIt4aOxRHJCXF+wDDfxy4WzOevOJdvPWZ+Uwb/xk3vq3/2DOZwOD97J/234P6Pge4Az++ENOCP+GNucW8teJ01g8+hDydzayd27bZ39QUS42CLZ9Vs+gwjyyDWpqGhhakMuwcJ35w3I5YOMHDNq4jsrR49gwZG9s82Z+Mn8OZ5Q/RW5zEw3ZOSz7p+P5v4NP4JmiAxhUmEf/luULculfW82J8+dy7ltzKdm2ge15hdz5hTO5c+o/87klb3DzE9e0fpa29B/M1Sf9gIeGTuGA3Paf95+eeFCXDngnFOt8211xAL5GcKbUKuDSePN26zqMjq67rvN5zT/+cTBt+vTE57ibJX/V73PPuQ8bFiw3enRwhe6uqqkpONf/V79yf+GFYIj3PpSWBsstXeqeldW16w769w+u7G5sbLuYMdowb1739mXDhvjbbznH/+tf7zzttts6r6++3v3ZZ4PrTTZubD/tT3+KvZ1oV6+3WLgw+WtAOg5jxiT3PtTWuj/8cHC9z1tvdZ6ezFXpX/hCctuK5sYbY6+3qMh98eLoyzU3uz/2WFC/P/4xuI6orq779Ui3LVvcX3st+WtVmpuDz+iOHe3LP/zQ/Te/cb/55pRf94Iu3Oum3/0u9hfI1KmJ/4CGD+/a9nbudH/vvdTeWqM3bNoU/30455y2eb/73eS/7Mzcn3iibdlvfSv6fOef37P6jxwZfb0XXdR2Ad5777X/0h4xwn379q5tp7nZ/Tvf6bydIUMSX628caP7nDnut98eDHfc4f6PfwRBGe89/Pa3u/eedFRTk/i2KF28QKydpib3L36x8zrz8pK/cl5SQoHRXTff3PkDfOGFwbTDD0/8hTdxYs/rsLvYd9/Y70Pkf+KbN7tPmJBcYFx3Xftt3Htv53n22su9qqpndf+Xf+m83ksu6Xy19vLl7j/7mftll7mvX9+9bW3f7n7QQe231XL/sO5oanLfZ5/Y7+GsWd1fd0cLFsT+PR99dOKr2xNZtaqtld3yD0M3bm0hPaPA6K5Zszr/YcycGUzbf//EX3hf/WrP67C7+OpXY78PHe8t1dDg/tRT7ued1/keUOA+aFDQ3O74BVRT437AAe3nveuuntd91Sr3ceOC9eXkuP/nf/b8yy+eqqrgXkiTJgXbinfLjWR873ux3/ulS1NT5xZ1dcE9i668MuiWPfjg4NYslZWpWf+aNcHf2Le+FdxTTXpdvMDYnQ56976cKG9PV25vnujBRHuSww8PbqHeUXExHNThLI2cHDjppGCYNSt4nsZnn8GQIcEwdGj0976gAJ5+Gn7zG9i6Fc46KzUPFNpvv+CZ2UuWwPDhMGZMz9cZz7BhcHfng+jddsopcNttncv32gvGj0/ddgDy8uDYY4MhHcaMSc8t8iUlFBjx9DQwDj00tfXZlUV7bjkEj5+1OOff5uTAhAnJb+fAA+FPf+pS1ZJSUACf/3zq19sbpk2DwsLODwCbOjV4DotIiujTFE+swGhujv6wpVERl4kMHw5nn52+uu1qDj88evnUqb1bj76ooABOOKFzud57STEFRjyxAiPao1wLC4OnsV13HVxzDSxdGnQ99BXjxkW/I+YXvtD7demLLrqo/ev8fPhWSi9TElFgxBUrMKo7X7HMgAEwaBD85CfB87L7UlgAZGfDySe3L9tvPzjiiMzUp6857jj44x+D7r0pU4JnsI9M4QVbIugYRnyxAiPa8YsBsW9J0WdcfXXw/O2FC2H0aLjjjujvoaTHeecFg0ia6K85HgVG1+y3H7z5ZtACKygIzqgRkT2GAiOergTGwIHpr8/uICsr6JoTkT2OjmHEoxaGiEgrBUY8CgwRkVYKjHi6epaUiMgeTIERj1oYIiKtFBjxZGd3LlNgiEgfpcCIRy0MEZFWCox4dFqtiEgrBUY8amGIiLRKW2CY2bVmttzMFpvZo2Y2OCwfa2Y7zawiHGZFLDPJzN4xs5VmdpNZcF9sM+tnZn8Jy+eb2dh01bsdnSUlItIqnS2MF4DD3H0C8B7wi4hpq9x9Yjj8W0T5rcBMYFw4TA/LzwM+cfcDgBuBa9JY7zZqYYiItEpbYLj78+4ePm2IeUBJvPnNbARQ5O5vhI8JvBs4LZx8KnBXOP4QMK2l9ZFWCgwRkVa9dQzjX4HI53eWmtlbZvaqmbU8MGEkUBkxT2VY1jJtLUAYQp8CQztuxMxmmlm5mZVXVVX1vNYKDBGRVj26+aCZvQjsE2XSpe7+eDjPpUAj8Odw2npgtLtvMbNJwGNmdigQrcXgLZuKM62twH02MBugrKys0/Qu01lSIiKtehQY7n5cvOlmdi5wMjAt7GbC3euAunB8oZmtAg4kaFFEdluVAOvC8UpgFFBpZjnAIGBrT+qeFLUwRERapfMsqenAz4BT3L0morzYzLLD8f0IDm5/4O7rgWozmxIenzgHeDxc7Ang3HD8dOCllgBKK50lJSLSKp3Pw7gZ6Ae8EB6fnheeEfVF4Ndm1gg0Af/m7i2thQuAO4ECgmMeLcc9bgfuMbOVBC2LGWmsd5togVFfH4RGR/37p78+IiIZlLbACE+BjVb+MPBwjGnlwGFRymuBM1JawWTEamF0VFAQ/b5TIiJ7EF3pHU+yIaDuKBHpAxQY8ZglFxoKDBHpAxQYiUTrlupIp9SKSB+gwEgkmcBQC0NE+gAFRiIKDBERQIGRmAJDRARQYCSmwBARARQYiSkwREQABUZiCgwREUCBkZhOqxURARQYiamFISICKDASSyYwdONBEekDFBiJKDBERAAFRmIKDBERQIGRmAJDRARQYCSmwBARARQYiSUTGIWF6a+HiEiGKTASUQtDRARIY2CY2eVm9rGZVYTD1yKm/cLMVprZCjM7MaJ8kpm9E067ycKHgZtZPzP7S1g+38zGpqvenSgwRESA9LcwbnT3ieEwF8DMDgFmAIcC04FbzKzlsXa3AjOBceEwPSw/D/gkfE74jcA1aa53G3VJiYgAmemSOhV4wN3r3H01sBKYbGYjgCJ3f8PdHbgbOC1imbvC8YeAaS2tj7RTC0NEBEh/YPzAzBab2R1mNiQsGwmsjZinMiwbGY53LG+3jLs3Ap8CQztuzMxmmlm5mZVXVVWlZg8SBUZeXnKhIiKym+tRYJjZi2a2JMpwKkH30v7ARGA9cH3LYlFW5XHK4y3TvsB9truXuXtZcXFxV3cnukRhoNaFiPQRPfrX2N2PS2Y+M7sNeCp8WQmMiphcAqwLy0uilEcuU2lmOcAgYGv3a94FiQJDxy9EpI9I51lSIyJefh1YEo4/AcwIz3wqJTi4/aa7rweqzWxKeHziHODxiGXODcdPB14Kj3Okn1oYIiJAD1sYCfzWzCYSdB2tAb4P4O5LzWwOsAxoBC5y96ZwmQuAO4EC4JlwALgduMfMVhK0LGaksd7tKTBERIA0Boa7nx1n2lXAVVHKy4HDopTXAmektILJUpeUiAigK70TUwtDRARQYCSmwBARARQYiSkwREQABUZiOoYhIgIoMBJTC0NEBFBgJKbAEBEBFBiJqUtKRARQYCSmFoaICKDASEyBISICKDASU5eUiAigwEhMLQwREUCBkZgCQ0QEUGAkpsAQEQEUGIllZ8efrmMYItJHKDASUQtDRARQYCSmwBARARQYiem0WhERQIGRmFoYIiJAGgPDzP5iZhXhsMbMKsLysWa2M2LarIhlJpnZO2a20sxuMjMLy/uF61tpZvPNbGy66t1JvMDo1y/xQXERkT1EOp/pfWbLuJldD3waMXmVu0+MstitwExgHjAXmA48A5wHfOLuB5jZDOAa4Mwoy6devMBQ60JE+pC0d0mFrYR/Bu5PMN8IoMjd33B3B+4GTgsnnwrcFY4/BExraX2kXbzA0PELEelDeuMYxheAje7+fkRZqZm9ZWavmtkXwrKRQGXEPJVhWcu0tQDu3kjQWhnacUNmNtPMys2svKqqKjW1VwtDRAToYZeUmb0I7BNl0qXu/ng4fhbtWxfrgdHuvsXMJgGPmdmhQLQWg7dsKs60tgL32cBsgLKysk7Tu0WBISIC9DAw3P24eNPNLAf4BjApYpk6oC4cX2hmq4ADCVoUJRGLlwDrwvFKYBRQGa5zELC1J3VPmrqkRESA9HdJHQcsd/fWriYzKzaz7HB8P2Ac8IG7rweqzWxKeHziHKCllfIEcG44fjrwUnicI/3UwhARAdJ4llRoBp0Pdn8R+LWZNQJNwL+5e0tr4QLgTqCA4OyoZ8Ly24F7zGwlQctiRprr3UaBISICpDkw3P27UcoeBh6OMX85cFiU8lrgjFTXLykKDBERQFd6J6ZjGCIigAIjMbUwREQABUZiCgwREUCBkZi6pEREAAVGYmphiIgACozEFBgiIoACIzEFhogIoMBITMcwREQABUZiamGIiAAKjMQUGCIigAIjsXiPYFWXlIj0IQqMRLKygiEatTBEpA9RYCQjVreUAkNE+hAFRjIUGCIiCoykxOqSKijo3XqIiGSQAiMZDQ3Ry+MdEBcR2cMoMJJRV5fpGoiIZJwCo7tidVOJiOyhevStZ2ZnmNlSM2s2s7IO035hZivNbIWZnRhRPsnM3gmn3WRmFpb3M7O/hOXzzWxsxDLnmtn74XBuT+qcMv36ZboGIiK9qqf/Ji8BvgH8LbLQzA4BZgCHAtOBW8yspcP/VmAmMC4cpofl5wGfuPsBwI3ANeG69gL+CzgKmAz8l5kN6WG9e06BISJ9TI8Cw93fdfcVUSadCjzg7nXuvhpYCUw2sxFAkbu/4e4O3A2cFrHMXeH4Q8C0sPVxIvCCu29190+AF2gLmczJy8t0DUREelW6OuJHAmsjXleGZSPD8Y7l7ZZx90bgU2BonHV1YmYzzazczMqrqqpSsBtxqIUhIn1MnDvrBczsRWCfKJMudffHYy0WpczjlHd3mfaF7rOB2QBlZWVR50kZBYaI9DEJA8Pdj+vGeiuBURGvS4B1YXlJlPLIZSrNLAcYBGwNy7/UYZlXulGn1FJgiEgfk64uqSeAGeGZT6UEB7ffdPf1QLWZTQmPT5wDPB6xTMsZUKcDL4XHOZ4DTjCzIeHB7hPCsszSMQwR6WMStjDiMbOvA38AioGnzazC3U9096VmNgdYBjQCF7l7U7jYBcCdQAHwTDgA3A7cY2YrCVoWMwDcfauZXQEsCOf7tbtv7Um9U0ItDBHpYyz4J37PU1ZW5uXl5alZmUU5jHLssfDKK6lZv4jILsLMFrp7WbRpuly5u9QlJSJ9jAKju9QlJSJ9jAKjuxQYItLHKDC6a/DgTNdARKRXKTCScdllnct+9rPer4eISAYpMJLxr/8KBxzQ9vr882HcuMzVR0QkA3p0HUafMWYMLFoEr74adEVNnZrpGomI9DoFRrIGDoSTT850LUREMkZdUiIikhQFhoiIJEWBISIiSVFgiIhIUhQYIiKSFAWGiIgkZY+9vbmZVQEf9mAVw4DNKarO7qIv7jP0zf3ui/sMfXO/u7rPY9y9ONqEPTYwesrMymPdE35P1Rf3GfrmfvfFfYa+ud+p3Gd1SYmISFIUGCIikhQFRmyzM12BDOiL+wx9c7/74j5D39zvlO2zjmGIiEhS1MIQEZGkKDBERCQpCowOzGy6ma0ws5Vm9vNM16c3mNkdZrbJzJZkui69xcxGmdnLZvaumS01s0syXafeYGb5Zvammb0d7vd/Z7pOvcXMss3sLTN7KtN16S1mtsbM3jGzCjMr7/H6dAyjjZllA+8BxwOVwALgLHdfltGKpZmZfRHYAdzt7odluj69wcxGACPcfZGZDQQWAqf1gd+1Af3dfYeZ5QKvAZe4+7wMVy3tzOzHQBlQ5O594uE2ZrYGKHP3lFysqBZGe5OBle7+gbvXAw8Ap2a4Tmnn7n8Dtma6Hr3J3de7+6JwvBp4FxiZ2Vqlnwd2hC9zw2GP/6/RzEqAk4A/ZrouuzMFRnsjgbURryvpA18ifZ2ZjQWOAOZnuCq9IuyaqQA2AS+4e1/Y798B/wE0Z7gevc2B581soZnN7OnKFBjtWZSyPf6/r77MzAYADwM/cvftma5Pb3D3JnefCJQAk81sj+6GNLOTgU3uvjDTdcmAY9z9SOCrwEVh93O3KTDaqwRGRbwuAdZlqC6SZmEf/sPAn939kUzXp7e5+zbgFWB6ZmuSdscAp4T9+Q8AXzGzezNbpd7h7uvCn5uARwm63btNgdHeAmCcmZWaWR4wA3giw3WSNAgP/t4OvOvuN2S6Pr3FzIrNbHA4XgAcByzPaKXSzN1/4e4l7j6W4G/6JXf/ToarlXZm1j88oQMz6w+cAPToTEgFRgR3bwR+ADxHcBB0jrsvzWyt0s/M7gfeAA4ys0ozOy/TdeoFxwBnE/y3WREOX8t0pXrBCOBlM1tM8A/SC+7eZ04z7WP2Bl4zs7eBN4Gn3f3ZnqxQp9WKiEhS1MIQEZGkKDBERCQpCgwREUmKAkNERJKiwBARkaQoMEREJCkKDBERScr/B07RrQfAH4kNAAAAAElFTkSuQmCC\n"
     },
     "metadata": {
      "needs_background": "light"
     },
     "output_type": "display_data"
    }
   ],
   "source": [
    "plt.scatter(x, t)\n",
    "plt.plot(x, pred_y, linewidth=5, color=\"red\", label=\"pred\")\n",
    "plt.plot(x, y(x), linewidth=5, color=\"green\", label=\"true\")\n",
    "plt.legend()"
   ]
  },
  {
   "cell_type": "markdown",
   "metadata": {
    "pycharm": {
     "name": "#%% md\n"
    }
   },
   "source": [
    "今回使った手法は 真の関数 `y` の定義を変更するとその他のコードを全く変更しなくても同様に回帰することができます．\n",
    "\n",
    "例えば以下のように変更したらその関数を回帰します．\n",
    "\n",
    "```python\n",
    "def y(x):\n",
    "    \"\"\"真の関数\"\"\"\n",
    "    return 5 * np.sin(np.pi * x / 5)\n",
    "```\n",
    "dev_data勉強会で詳しくやりますが，この回帰曲線の表現力は2次までです．\n",
    "カーブが2つ以上の曲線を回帰したい場合は問3の計画行列の列数を　`x3, x4...`　のように増やせば表現力が上がります．"
   ]
  },
  {
   "cell_type": "code",
   "execution_count": null,
   "metadata": {
    "pycharm": {
     "name": "#%%\n"
    }
   },
   "outputs": [],
   "source": []
  }
 ],
 "metadata": {
  "kernelspec": {
   "display_name": "Python 3",
   "language": "python",
   "name": "python3"
  },
  "language_info": {
   "codemirror_mode": {
    "name": "ipython",
    "version": 3
   },
   "file_extension": ".py",
   "mimetype": "text/x-python",
   "name": "python",
   "nbconvert_exporter": "python",
   "pygments_lexer": "ipython3",
   "version": "3.7.4"
  }
 },
 "nbformat": 4,
 "nbformat_minor": 4
}